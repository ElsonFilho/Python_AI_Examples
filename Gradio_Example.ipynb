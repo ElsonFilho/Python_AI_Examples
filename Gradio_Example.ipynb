{
  "nbformat": 4,
  "nbformat_minor": 0,
  "metadata": {
    "colab": {
      "provenance": [],
      "authorship_tag": "ABX9TyPM2hB/ctwV7wDmbMcXpJ/7"
    },
    "kernelspec": {
      "name": "python3",
      "display_name": "Python 3"
    },
    "language_info": {
      "name": "python"
    }
  },
  "cells": [
    {
      "cell_type": "markdown",
      "source": [
        "**GRADIO**\n",
        "\n",
        "Gradio is an open-source Python package that allows you to quickly build a demo or web application for your machine learning model, API, or any arbitrary Python function. You can then share a link to your demo or web application using Gradio's built-in sharing features. No JavaScript, CSS, or web hosting experience is needed."
      ],
      "metadata": {
        "id": "8BFSERaP37KW"
      }
    },
    {
      "cell_type": "code",
      "source": [
        "# Install the library\n",
        "\n",
        "# !pip install gradio\n",
        "\n",
        "# Install silently\n",
        "import os\n",
        "import sys\n",
        "import subprocess\n",
        "\n",
        "# Install gradio silently (no output will be shown)\n",
        "subprocess.check_call(\n",
        "    [sys.executable, \"-m\", \"pip\", \"install\", \"gradio\"],\n",
        "    stdout=subprocess.DEVNULL,\n",
        "    stderr=subprocess.DEVNULL\n",
        ")"
      ],
      "metadata": {
        "colab": {
          "base_uri": "https://localhost:8080/"
        },
        "id": "FOdtoRIj4G37",
        "outputId": "297e5f34-c7e0-4982-ba93-38fff12a1b91"
      },
      "execution_count": 7,
      "outputs": [
        {
          "output_type": "execute_result",
          "data": {
            "text/plain": [
              "0"
            ]
          },
          "metadata": {},
          "execution_count": 7
        }
      ]
    },
    {
      "cell_type": "code",
      "execution_count": 3,
      "metadata": {
        "id": "xJLlnmJ435sG"
      },
      "outputs": [],
      "source": [
        "# Import the library gradio\n",
        "# which allows you to create interactive UIs for your Python functions\n",
        "\n",
        "import gradio as gr"
      ]
    },
    {
      "cell_type": "code",
      "source": [
        "# Define a simple function that greets the user with customizable intensity\n",
        "\n",
        "def greet(name, intensity):\n",
        "  return \"Hello, \" + name + \"!\" * int(intensity)"
      ],
      "metadata": {
        "id": "yKgTfuWi5YLX"
      },
      "execution_count": 4,
      "outputs": []
    },
    {
      "cell_type": "code",
      "source": [
        "# Create a Gradio Interface to make the 'greet' function interactive\n",
        "demo = gr.Interface(\n",
        "    fn=greet,                   # The function to wrap with the interface\n",
        "    inputs=[\"text\", \"slider\"],  # The expected inputs: a text field and a slider\n",
        "    outputs=[\"text\"],           # The output: a single text field\n",
        ")"
      ],
      "metadata": {
        "id": "6p06adCu5ht4"
      },
      "execution_count": 5,
      "outputs": []
    },
    {
      "cell_type": "code",
      "source": [
        "# Launch the interface on localhost at port 7860\n",
        "demo.launch(server_name=\"127.0.0.1\", server_port=7860)"
      ],
      "metadata": {
        "colab": {
          "base_uri": "https://localhost:8080/",
          "height": 647
        },
        "id": "TI0qMSW_6Vsg",
        "outputId": "882abf2c-075f-4ca3-ecf6-f22d5e53e256"
      },
      "execution_count": 6,
      "outputs": [
        {
          "output_type": "stream",
          "name": "stdout",
          "text": [
            "It looks like you are running Gradio on a hosted a Jupyter notebook. For the Gradio app to work, sharing must be enabled. Automatically setting `share=True` (you can turn this off by setting `share=False` in `launch()` explicitly).\n",
            "\n",
            "Colab notebook detected. To show errors in colab notebook, set debug=True in launch()\n",
            "* Running on public URL: https://2a75da5a3853538ac4.gradio.live\n",
            "\n",
            "This share link expires in 1 week. For free permanent hosting and GPU upgrades, run `gradio deploy` from the terminal in the working directory to deploy to Hugging Face Spaces (https://huggingface.co/spaces)\n"
          ]
        },
        {
          "output_type": "display_data",
          "data": {
            "text/plain": [
              "<IPython.core.display.HTML object>"
            ],
            "text/html": [
              "<div><iframe src=\"https://2a75da5a3853538ac4.gradio.live\" width=\"100%\" height=\"500\" allow=\"autoplay; camera; microphone; clipboard-read; clipboard-write;\" frameborder=\"0\" allowfullscreen></iframe></div>"
            ]
          },
          "metadata": {}
        },
        {
          "output_type": "execute_result",
          "data": {
            "text/plain": []
          },
          "metadata": {},
          "execution_count": 6
        }
      ]
    },
    {
      "cell_type": "markdown",
      "source": [
        "## 🚀 Demo\n",
        "\n",
        "Check out the live app: [Greet](https://2a75da5a3853538ac4.gradio.live/)\n",
        "\n",
        "![App Screenshot](screenshot.png)\n"
      ],
      "metadata": {
        "id": "i15xF0iJ8ozr"
      }
    }
  ]
}