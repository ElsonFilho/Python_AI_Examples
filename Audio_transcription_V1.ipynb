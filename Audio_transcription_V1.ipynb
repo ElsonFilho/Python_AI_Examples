{
 "cells": [
  {
   "cell_type": "code",
   "execution_count": 1,
   "metadata": {
    "colab": {
     "base_uri": "https://localhost:8080/"
    },
    "id": "6kfHlgQON0HO",
    "outputId": "e7458ea5-8ee8-4ac3-892f-cce0fa2dd672"
   },
   "outputs": [
    {
     "name": "stdout",
     "output_type": "stream",
     "text": [
      "File downloaded successfully\n"
     ]
    }
   ],
   "source": [
    "import requests\n",
    "\n",
    "# URL of the audio file to be downloaded\n",
    "url = \"https://cf-courses-data.s3.us.cloud-object-storage.appdomain.cloud/IBMSkillsNetwork-GPXX04C6EN/Testing%20speech%20to%20text.mp3\"\n",
    "\n",
    "# Send a GET request to the URL to download the file\n",
    "response = requests.get(url)\n",
    "\n",
    "# Define the local file path where the audio file will be saved\n",
    "audio_file_path = \"downloaded_audio.mp3\"\n",
    "\n",
    "# Check if the request was successful (status code 200)\n",
    "if response.status_code == 200:\n",
    "    # If successful, write the content to the specified local file path\n",
    "    with open(audio_file_path, \"wb\") as file:\n",
    "        file.write(response.content)\n",
    "    print(\"File downloaded successfully\")\n",
    "else:\n",
    "    # If the request failed, print an error message\n",
    "    print(\"Failed to download the file\")"
   ]
  },
  {
   "cell_type": "code",
   "execution_count": 2,
   "metadata": {
    "colab": {
     "base_uri": "https://localhost:8080/",
     "height": 584,
     "referenced_widgets": [
      "56af77ad77b244cabe52c6eb9d97c105",
      "c3b88e9309224b82893159db6844ddaa",
      "9d988fecbd3041539fa80ca71132d0f4",
      "cd05b4ebad7c49338fd5e188aa4f5bb2",
      "bfa2199c855241f98eab6c6d676ac1e4",
      "d21f734cc7fa4d3d9b87642ac603b84f",
      "e5d1aa763f5c4911924e5e69d3aac6f7",
      "a0aee8097bee4ba3a5eed39e9e36002e",
      "6b748003033842c98a447cbb7713e2aa",
      "8fb13e47e7074e019ade7315e3dbc5e1",
      "baee697c6d2a4168b8d888e2402ef163",
      "911b0675ec3f460fa80d56cd4cb342c5",
      "ec398c3f7e00416fb357d084243fe471",
      "546098034bc5488091dd452d838dbc5c",
      "2a5b1b6b55b84b32a8b5a0d5466a13fd",
      "220e37be720f4d32acc2d6f02c015de6",
      "48c63a1e6fd34c648a4735a5cfc1c2bd",
      "96642158d41240e387eb3d432c2e692c",
      "8f5c04049c10440b9ae45d4975d5fa81",
      "5e81811867a440d4ba67967b66ae33c0",
      "e3be652ef85641df80b3c65b6ae2ed6e",
      "7ac404e32a484b849e833d3f448e1800",
      "4e63898ae9ea4d629ec3b70575119925",
      "481b28db01f743b5994f79863b6381ad",
      "76c3e23c1932437cbebe3f90a8d98af8",
      "15fc26d90d5d4eba80e2ec087a10e6b9",
      "3ecbb801a45e4e229e3d6229863b45db",
      "4cd26137f473474d8684f30901581068",
      "c6a5f4e6f4d5420da02ca74059bee3d3",
      "7e1c0cbc26074da6b64abfcd1e04ebd3",
      "e55d94df14d440d482e7773ea5c53ede",
      "f944561453154ecd9d6256745bfff7d6",
      "c67f9204edd34508beed789dfd61afd7",
      "ec1fe90752004fc5ba24f1a585285f05",
      "b473e19e46924ebeb7eda634fca542f3",
      "fc5cf34d04ba4d1fa4ac63cadb9c5034",
      "823ca1439823447aba4ab63cf1acb4bb",
      "d885568443ef41af9465fc9dd20870dc",
      "97babbb86b124090bbd652466cccdeee",
      "7b98f28a0e53475c89328352780dab22",
      "8c59c228b1f34807abc0e10f94e36560",
      "b107fc78710f4ad495163f2690ff1df5",
      "e0b32277a1b2406aad0e0e69c18c4d51",
      "bac73285baa64a90a99fede67fc8f25d",
      "7b432e05d7144823a4652493df11841b",
      "72322eef39524080a02bebd5f870fa1f",
      "f93dc1d9a3024859b78cd01c692ceaec",
      "e5080a772c5047a6a91376c3dd09030b",
      "86ee12a867c449a3a20be8b6275bb1c8",
      "3e414599ea244357affb522713bd226f",
      "1b18bb540ef644b6a3b369295a319a0a",
      "af98bedd5bfd4df3ae9a6a4ec98f671b",
      "ab7de8506858429c9ae93f4014f73523",
      "9ecaa4d175624d0babbac911b9dd9959",
      "13a5669395cd467aa224bfb11acddd81",
      "10e4c8dfbf45479da6eed2f0954b6101",
      "a542d4cc3b4344e8b02023bc9c1ea950",
      "3f7673bb637d4bb5a99e92b8fc21dcc4",
      "139649f4d00b4589ae22be38a26e9c8d",
      "5f832267c7704672b9d99b68292e5763",
      "f12f285910824dbea814dae944a8a176",
      "dad4f95afbaa4f9484a95528bad7ec74",
      "928bca841f5345039f5d7f1511adedc6",
      "634488566cd74bb2a2d1eba5088e340c",
      "19538968bcb54f32844eeb1738ed694c",
      "bb0a0719dfc543168da4d5bf50004431",
      "7c72511bec87413b941f01fdb434af32",
      "64d48e2cba5243f1b2835f96b2317200",
      "c826d74b0fad4900851f4c72e8d333e9",
      "acb7d6f00c2a492a837b4ab09a06a71b",
      "1034b167f7d84d179bdac8ed191be885",
      "45d1a5d010ae4396aba8c05251b056b9",
      "8bf400cdc0554148bb0afde12281e9d4",
      "478b2735965f458dadb2d01cdea13dec",
      "08af49753bd34c22ab3761260666fec4",
      "a10a2c7ca8a345a09cd4c10e57e5a15f",
      "ad359f64b23049d9987f0cadbd2d4602",
      "75dbaa6fdf384a73980a2c9ff2d53767",
      "840937d1b83c41f08204edcf42fe2f53",
      "8edbd7085ffc475c9026982e003eef50",
      "e29b9c3aaf0541dab8f2b80d141a349c",
      "99b6e02864b942c8b9508b2c47087c28",
      "9eccbce8a76f41da82ac1f91fe5b9654",
      "ac319c4475e54296b8fe3a2524d7680d",
      "3d140f285da64af6b52f3c28f0531db7",
      "e303dc0b9d7346d98b637477d9bc51b3",
      "403c559562594bf88c9c86950375c561",
      "4fd1980b7c614754a9105ad2db744f00",
      "38b95ae39c9244ab82e87a1c6187d06e",
      "6cafcd52351a446f909d684e488e8e8b",
      "535afa6f60584bc897d9cadea1360561",
      "4bf30bd9e23e48328ef70feeee171998",
      "0b9623359e004656b1d2295b27fe3d46",
      "565813c88bce4e75be1ea6ec59573cb1",
      "3ae4d615bf3a4bdea774826f4815ad33",
      "e194e4776c734814836e74c2a897f571",
      "d2dd295dd3404d8c9f0ec3653e697b57",
      "d923713beb61439a9ea2738d38750c90",
      "fd82a3caf8704b3bbe89a37469f19445",
      "f5ff8ea996a444d2aace9dc949ad3315",
      "92b295c69ec54ef59ff43d5283b2ce25",
      "d22f1cab88c74e9ea0220b1cde5409a5",
      "fcf34f8afbc94bfeac89403120f63cbd",
      "93f2357287ef4cc49f7e23fe2e55f5c8",
      "52c8cdc539d34d3b99506b5e96f49055",
      "95e5e29df4654671858c5c156b8501d7",
      "33d203f4b9bc4d44bb50392e028afc77",
      "16ff09439daf46978f6760a27310cdb6",
      "298084deb20b473cb5024c2ba2eeb187",
      "18a720aa3ef4483889300fb1aca439da",
      "a79313aee1e0471da2e3b8e60ce070fb",
      "11c4a5ca86694ee58e7bae89c34d9e52",
      "d0a20b957cef43f6b02c21907a783491",
      "60c0fcdc3b69420fa096beaac853d793",
      "341de41efb424ff79a91a425930a38a6",
      "25dc2bdba3164d4c8cc0a426b595978d",
      "5b3378d50f0c41ae8381463dc17f4c55",
      "aba477e37f77478d983f4c4e76918275",
      "15352add5f2043879d70447cd6d28588",
      "273bf2f9f60c4755842e9ff3513123b2",
      "7185cd4b23f94406b7915f2d8ed0cede"
     ]
    },
    "id": "6R8iK3Z9ODjq",
    "outputId": "873dce7c-e808-4e22-e8c9-3bd3902cc843"
   },
   "outputs": [
    {
     "name": "stderr",
     "output_type": "stream",
     "text": [
      "/usr/local/lib/python3.11/dist-packages/huggingface_hub/utils/_auth.py:94: UserWarning: \n",
      "The secret `HF_TOKEN` does not exist in your Colab secrets.\n",
      "To authenticate with the Hugging Face Hub, create a token in your settings tab (https://huggingface.co/settings/tokens), set it as secret in your Google Colab and restart your session.\n",
      "You will be able to reuse this secret in all of your notebooks.\n",
      "Please note that authentication is recommended but still optional to access public models or datasets.\n",
      "  warnings.warn(\n"
     ]
    },
    {
     "data": {
      "application/vnd.jupyter.widget-view+json": {
       "model_id": "56af77ad77b244cabe52c6eb9d97c105",
       "version_major": 2,
       "version_minor": 0
      },
      "text/plain": [
       "config.json:   0%|          | 0.00/1.94k [00:00<?, ?B/s]"
      ]
     },
     "metadata": {},
     "output_type": "display_data"
    },
    {
     "data": {
      "application/vnd.jupyter.widget-view+json": {
       "model_id": "911b0675ec3f460fa80d56cd4cb342c5",
       "version_major": 2,
       "version_minor": 0
      },
      "text/plain": [
       "model.safetensors:   0%|          | 0.00/151M [00:00<?, ?B/s]"
      ]
     },
     "metadata": {},
     "output_type": "display_data"
    },
    {
     "data": {
      "application/vnd.jupyter.widget-view+json": {
       "model_id": "4e63898ae9ea4d629ec3b70575119925",
       "version_major": 2,
       "version_minor": 0
      },
      "text/plain": [
       "generation_config.json:   0%|          | 0.00/1.62k [00:00<?, ?B/s]"
      ]
     },
     "metadata": {},
     "output_type": "display_data"
    },
    {
     "data": {
      "application/vnd.jupyter.widget-view+json": {
       "model_id": "ec1fe90752004fc5ba24f1a585285f05",
       "version_major": 2,
       "version_minor": 0
      },
      "text/plain": [
       "tokenizer_config.json:   0%|          | 0.00/805 [00:00<?, ?B/s]"
      ]
     },
     "metadata": {},
     "output_type": "display_data"
    },
    {
     "data": {
      "application/vnd.jupyter.widget-view+json": {
       "model_id": "7b432e05d7144823a4652493df11841b",
       "version_major": 2,
       "version_minor": 0
      },
      "text/plain": [
       "vocab.json:   0%|          | 0.00/798k [00:00<?, ?B/s]"
      ]
     },
     "metadata": {},
     "output_type": "display_data"
    },
    {
     "data": {
      "application/vnd.jupyter.widget-view+json": {
       "model_id": "10e4c8dfbf45479da6eed2f0954b6101",
       "version_major": 2,
       "version_minor": 0
      },
      "text/plain": [
       "tokenizer.json:   0%|          | 0.00/2.41M [00:00<?, ?B/s]"
      ]
     },
     "metadata": {},
     "output_type": "display_data"
    },
    {
     "data": {
      "application/vnd.jupyter.widget-view+json": {
       "model_id": "7c72511bec87413b941f01fdb434af32",
       "version_major": 2,
       "version_minor": 0
      },
      "text/plain": [
       "merges.txt:   0%|          | 0.00/456k [00:00<?, ?B/s]"
      ]
     },
     "metadata": {},
     "output_type": "display_data"
    },
    {
     "data": {
      "application/vnd.jupyter.widget-view+json": {
       "model_id": "75dbaa6fdf384a73980a2c9ff2d53767",
       "version_major": 2,
       "version_minor": 0
      },
      "text/plain": [
       "normalizer.json:   0%|          | 0.00/52.7k [00:00<?, ?B/s]"
      ]
     },
     "metadata": {},
     "output_type": "display_data"
    },
    {
     "data": {
      "application/vnd.jupyter.widget-view+json": {
       "model_id": "38b95ae39c9244ab82e87a1c6187d06e",
       "version_major": 2,
       "version_minor": 0
      },
      "text/plain": [
       "added_tokens.json:   0%|          | 0.00/34.6k [00:00<?, ?B/s]"
      ]
     },
     "metadata": {},
     "output_type": "display_data"
    },
    {
     "data": {
      "application/vnd.jupyter.widget-view+json": {
       "model_id": "f5ff8ea996a444d2aace9dc949ad3315",
       "version_major": 2,
       "version_minor": 0
      },
      "text/plain": [
       "special_tokens_map.json:   0%|          | 0.00/1.83k [00:00<?, ?B/s]"
      ]
     },
     "metadata": {},
     "output_type": "display_data"
    },
    {
     "data": {
      "application/vnd.jupyter.widget-view+json": {
       "model_id": "a79313aee1e0471da2e3b8e60ce070fb",
       "version_major": 2,
       "version_minor": 0
      },
      "text/plain": [
       "preprocessor_config.json:   0%|          | 0.00/185k [00:00<?, ?B/s]"
      ]
     },
     "metadata": {},
     "output_type": "display_data"
    },
    {
     "name": "stderr",
     "output_type": "stream",
     "text": [
      "Device set to use cpu\n",
      "/usr/local/lib/python3.11/dist-packages/transformers/models/whisper/generation_whisper.py:573: FutureWarning: The input name `inputs` is deprecated. Please make sure to use `input_features` instead.\n",
      "  warnings.warn(\n",
      "The attention mask is not set and cannot be inferred from input because pad token is same as eos token. As a consequence, you may observe unexpected behavior. Please pass your input's `attention_mask` to obtain reliable results.\n"
     ]
    },
    {
     "name": "stdout",
     "output_type": "stream",
     "text": [
      " Hello, I want to speak fast because I want to test four speech-to-text applications. Today, whether it's sunny, with a slight breeze, making it perfect for outdoor activity, later I plan for a busy local part, maybe even a picnic. The test is designed to assess the accuracy and responsiveness of the speech-to-text feature. Thank you for participating in this test.\n"
     ]
    }
   ],
   "source": [
    "import torch\n",
    "from transformers import pipeline\n",
    "\n",
    "# Initialize the speech-to-text pipeline from Hugging Face Transformers\n",
    "# This uses the \"openai/whisper-tiny.en\" model for automatic speech recognition (ASR)\n",
    "# The `chunk_length_s` parameter specifies the chunk length in seconds for processing\n",
    "pipe = pipeline(\n",
    "  \"automatic-speech-recognition\",\n",
    "  model=\"openai/whisper-tiny.en\",\n",
    "  chunk_length_s=30,\n",
    ")\n",
    "\n",
    "# Define the path to the audio file that needs to be transcribed\n",
    "sample = '/content/downloaded_audio.mp3'\n",
    "\n",
    "# Perform speech recognition on the audio file\n",
    "# The `batch_size=8` parameter indicates how many chunks are processed at a time\n",
    "# The result is stored in `prediction` with the key \"text\" containing the transcribed text\n",
    "prediction = pipe(sample, batch_size=8)[\"text\"]\n",
    "\n",
    "# Print the transcribed text to the console\n",
    "print(prediction)"
   ]
  },
  {
   "cell_type": "code",
   "execution_count": 4,
   "metadata": {
    "colab": {
     "base_uri": "https://localhost:8080/",
     "height": 1000
    },
    "id": "CqmtgdbEOj66",
    "outputId": "17bfc168-a2f1-4e78-917c-e1a23eb7d868"
   },
   "outputs": [
    {
     "name": "stdout",
     "output_type": "stream",
     "text": [
      "Collecting gradio\n",
      "  Downloading gradio-5.28.0-py3-none-any.whl.metadata (16 kB)\n",
      "Collecting aiofiles<25.0,>=22.0 (from gradio)\n",
      "  Downloading aiofiles-24.1.0-py3-none-any.whl.metadata (10 kB)\n",
      "Requirement already satisfied: anyio<5.0,>=3.0 in /usr/local/lib/python3.11/dist-packages (from gradio) (4.9.0)\n",
      "Collecting fastapi<1.0,>=0.115.2 (from gradio)\n",
      "  Downloading fastapi-0.115.12-py3-none-any.whl.metadata (27 kB)\n",
      "Collecting ffmpy (from gradio)\n",
      "  Downloading ffmpy-0.5.0-py3-none-any.whl.metadata (3.0 kB)\n",
      "Collecting gradio-client==1.10.0 (from gradio)\n",
      "  Downloading gradio_client-1.10.0-py3-none-any.whl.metadata (7.1 kB)\n",
      "Collecting groovy~=0.1 (from gradio)\n",
      "  Downloading groovy-0.1.2-py3-none-any.whl.metadata (6.1 kB)\n",
      "Requirement already satisfied: httpx>=0.24.1 in /usr/local/lib/python3.11/dist-packages (from gradio) (0.28.1)\n",
      "Requirement already satisfied: huggingface-hub>=0.28.1 in /usr/local/lib/python3.11/dist-packages (from gradio) (0.30.2)\n",
      "Requirement already satisfied: jinja2<4.0 in /usr/local/lib/python3.11/dist-packages (from gradio) (3.1.6)\n",
      "Requirement already satisfied: markupsafe<4.0,>=2.0 in /usr/local/lib/python3.11/dist-packages (from gradio) (3.0.2)\n",
      "Requirement already satisfied: numpy<3.0,>=1.0 in /usr/local/lib/python3.11/dist-packages (from gradio) (2.0.2)\n",
      "Requirement already satisfied: orjson~=3.0 in /usr/local/lib/python3.11/dist-packages (from gradio) (3.10.16)\n",
      "Requirement already satisfied: packaging in /usr/local/lib/python3.11/dist-packages (from gradio) (24.2)\n",
      "Requirement already satisfied: pandas<3.0,>=1.0 in /usr/local/lib/python3.11/dist-packages (from gradio) (2.2.2)\n",
      "Requirement already satisfied: pillow<12.0,>=8.0 in /usr/local/lib/python3.11/dist-packages (from gradio) (11.2.1)\n",
      "Requirement already satisfied: pydantic<2.12,>=2.0 in /usr/local/lib/python3.11/dist-packages (from gradio) (2.11.3)\n",
      "Collecting pydub (from gradio)\n",
      "  Downloading pydub-0.25.1-py2.py3-none-any.whl.metadata (1.4 kB)\n",
      "Collecting python-multipart>=0.0.18 (from gradio)\n",
      "  Downloading python_multipart-0.0.20-py3-none-any.whl.metadata (1.8 kB)\n",
      "Requirement already satisfied: pyyaml<7.0,>=5.0 in /usr/local/lib/python3.11/dist-packages (from gradio) (6.0.2)\n",
      "Collecting ruff>=0.9.3 (from gradio)\n",
      "  Downloading ruff-0.11.7-py3-none-manylinux_2_17_x86_64.manylinux2014_x86_64.whl.metadata (25 kB)\n",
      "Collecting safehttpx<0.2.0,>=0.1.6 (from gradio)\n",
      "  Downloading safehttpx-0.1.6-py3-none-any.whl.metadata (4.2 kB)\n",
      "Collecting semantic-version~=2.0 (from gradio)\n",
      "  Downloading semantic_version-2.10.0-py2.py3-none-any.whl.metadata (9.7 kB)\n",
      "Collecting starlette<1.0,>=0.40.0 (from gradio)\n",
      "  Downloading starlette-0.46.2-py3-none-any.whl.metadata (6.2 kB)\n",
      "Collecting tomlkit<0.14.0,>=0.12.0 (from gradio)\n",
      "  Downloading tomlkit-0.13.2-py3-none-any.whl.metadata (2.7 kB)\n",
      "Requirement already satisfied: typer<1.0,>=0.12 in /usr/local/lib/python3.11/dist-packages (from gradio) (0.15.2)\n",
      "Requirement already satisfied: typing-extensions~=4.0 in /usr/local/lib/python3.11/dist-packages (from gradio) (4.13.2)\n",
      "Collecting uvicorn>=0.14.0 (from gradio)\n",
      "  Downloading uvicorn-0.34.2-py3-none-any.whl.metadata (6.5 kB)\n",
      "Requirement already satisfied: fsspec in /usr/local/lib/python3.11/dist-packages (from gradio-client==1.10.0->gradio) (2025.3.2)\n",
      "Requirement already satisfied: websockets<16.0,>=10.0 in /usr/local/lib/python3.11/dist-packages (from gradio-client==1.10.0->gradio) (15.0.1)\n",
      "Requirement already satisfied: idna>=2.8 in /usr/local/lib/python3.11/dist-packages (from anyio<5.0,>=3.0->gradio) (3.10)\n",
      "Requirement already satisfied: sniffio>=1.1 in /usr/local/lib/python3.11/dist-packages (from anyio<5.0,>=3.0->gradio) (1.3.1)\n",
      "Requirement already satisfied: certifi in /usr/local/lib/python3.11/dist-packages (from httpx>=0.24.1->gradio) (2025.1.31)\n",
      "Requirement already satisfied: httpcore==1.* in /usr/local/lib/python3.11/dist-packages (from httpx>=0.24.1->gradio) (1.0.9)\n",
      "Requirement already satisfied: h11>=0.16 in /usr/local/lib/python3.11/dist-packages (from httpcore==1.*->httpx>=0.24.1->gradio) (0.16.0)\n",
      "Requirement already satisfied: filelock in /usr/local/lib/python3.11/dist-packages (from huggingface-hub>=0.28.1->gradio) (3.18.0)\n",
      "Requirement already satisfied: requests in /usr/local/lib/python3.11/dist-packages (from huggingface-hub>=0.28.1->gradio) (2.32.3)\n",
      "Requirement already satisfied: tqdm>=4.42.1 in /usr/local/lib/python3.11/dist-packages (from huggingface-hub>=0.28.1->gradio) (4.67.1)\n",
      "Requirement already satisfied: python-dateutil>=2.8.2 in /usr/local/lib/python3.11/dist-packages (from pandas<3.0,>=1.0->gradio) (2.9.0.post0)\n",
      "Requirement already satisfied: pytz>=2020.1 in /usr/local/lib/python3.11/dist-packages (from pandas<3.0,>=1.0->gradio) (2025.2)\n",
      "Requirement already satisfied: tzdata>=2022.7 in /usr/local/lib/python3.11/dist-packages (from pandas<3.0,>=1.0->gradio) (2025.2)\n",
      "Requirement already satisfied: annotated-types>=0.6.0 in /usr/local/lib/python3.11/dist-packages (from pydantic<2.12,>=2.0->gradio) (0.7.0)\n",
      "Requirement already satisfied: pydantic-core==2.33.1 in /usr/local/lib/python3.11/dist-packages (from pydantic<2.12,>=2.0->gradio) (2.33.1)\n",
      "Requirement already satisfied: typing-inspection>=0.4.0 in /usr/local/lib/python3.11/dist-packages (from pydantic<2.12,>=2.0->gradio) (0.4.0)\n",
      "Requirement already satisfied: click>=8.0.0 in /usr/local/lib/python3.11/dist-packages (from typer<1.0,>=0.12->gradio) (8.1.8)\n",
      "Requirement already satisfied: shellingham>=1.3.0 in /usr/local/lib/python3.11/dist-packages (from typer<1.0,>=0.12->gradio) (1.5.4)\n",
      "Requirement already satisfied: rich>=10.11.0 in /usr/local/lib/python3.11/dist-packages (from typer<1.0,>=0.12->gradio) (13.9.4)\n",
      "Requirement already satisfied: six>=1.5 in /usr/local/lib/python3.11/dist-packages (from python-dateutil>=2.8.2->pandas<3.0,>=1.0->gradio) (1.17.0)\n",
      "Requirement already satisfied: markdown-it-py>=2.2.0 in /usr/local/lib/python3.11/dist-packages (from rich>=10.11.0->typer<1.0,>=0.12->gradio) (3.0.0)\n",
      "Requirement already satisfied: pygments<3.0.0,>=2.13.0 in /usr/local/lib/python3.11/dist-packages (from rich>=10.11.0->typer<1.0,>=0.12->gradio) (2.19.1)\n",
      "Requirement already satisfied: charset-normalizer<4,>=2 in /usr/local/lib/python3.11/dist-packages (from requests->huggingface-hub>=0.28.1->gradio) (3.4.1)\n",
      "Requirement already satisfied: urllib3<3,>=1.21.1 in /usr/local/lib/python3.11/dist-packages (from requests->huggingface-hub>=0.28.1->gradio) (2.4.0)\n",
      "Requirement already satisfied: mdurl~=0.1 in /usr/local/lib/python3.11/dist-packages (from markdown-it-py>=2.2.0->rich>=10.11.0->typer<1.0,>=0.12->gradio) (0.1.2)\n",
      "Downloading gradio-5.28.0-py3-none-any.whl (54.1 MB)\n",
      "\u001b[2K   \u001b[90m━━━━━━━━━━━━━━━━━━━━━━━━━━━━━━━━━━━━━━━━\u001b[0m \u001b[32m54.1/54.1 MB\u001b[0m \u001b[31m12.1 MB/s\u001b[0m eta \u001b[36m0:00:00\u001b[0m\n",
      "\u001b[?25hDownloading gradio_client-1.10.0-py3-none-any.whl (322 kB)\n",
      "\u001b[2K   \u001b[90m━━━━━━━━━━━━━━━━━━━━━━━━━━━━━━━━━━━━━━━━\u001b[0m \u001b[32m322.9/322.9 kB\u001b[0m \u001b[31m20.2 MB/s\u001b[0m eta \u001b[36m0:00:00\u001b[0m\n",
      "\u001b[?25hDownloading aiofiles-24.1.0-py3-none-any.whl (15 kB)\n",
      "Downloading fastapi-0.115.12-py3-none-any.whl (95 kB)\n",
      "\u001b[2K   \u001b[90m━━━━━━━━━━━━━━━━━━━━━━━━━━━━━━━━━━━━━━━━\u001b[0m \u001b[32m95.2/95.2 kB\u001b[0m \u001b[31m7.1 MB/s\u001b[0m eta \u001b[36m0:00:00\u001b[0m\n",
      "\u001b[?25hDownloading groovy-0.1.2-py3-none-any.whl (14 kB)\n",
      "Downloading python_multipart-0.0.20-py3-none-any.whl (24 kB)\n",
      "Downloading ruff-0.11.7-py3-none-manylinux_2_17_x86_64.manylinux2014_x86_64.whl (11.5 MB)\n",
      "\u001b[2K   \u001b[90m━━━━━━━━━━━━━━━━━━━━━━━━━━━━━━━━━━━━━━━━\u001b[0m \u001b[32m11.5/11.5 MB\u001b[0m \u001b[31m92.7 MB/s\u001b[0m eta \u001b[36m0:00:00\u001b[0m\n",
      "\u001b[?25hDownloading safehttpx-0.1.6-py3-none-any.whl (8.7 kB)\n",
      "Downloading semantic_version-2.10.0-py2.py3-none-any.whl (15 kB)\n",
      "Downloading starlette-0.46.2-py3-none-any.whl (72 kB)\n",
      "\u001b[2K   \u001b[90m━━━━━━━━━━━━━━━━━━━━━━━━━━━━━━━━━━━━━━━━\u001b[0m \u001b[32m72.0/72.0 kB\u001b[0m \u001b[31m4.5 MB/s\u001b[0m eta \u001b[36m0:00:00\u001b[0m\n",
      "\u001b[?25hDownloading tomlkit-0.13.2-py3-none-any.whl (37 kB)\n",
      "Downloading uvicorn-0.34.2-py3-none-any.whl (62 kB)\n",
      "\u001b[2K   \u001b[90m━━━━━━━━━━━━━━━━━━━━━━━━━━━━━━━━━━━━━━━━\u001b[0m \u001b[32m62.5/62.5 kB\u001b[0m \u001b[31m5.0 MB/s\u001b[0m eta \u001b[36m0:00:00\u001b[0m\n",
      "\u001b[?25hDownloading ffmpy-0.5.0-py3-none-any.whl (6.0 kB)\n",
      "Downloading pydub-0.25.1-py2.py3-none-any.whl (32 kB)\n",
      "Installing collected packages: pydub, uvicorn, tomlkit, semantic-version, ruff, python-multipart, groovy, ffmpy, aiofiles, starlette, safehttpx, gradio-client, fastapi, gradio\n",
      "Successfully installed aiofiles-24.1.0 fastapi-0.115.12 ffmpy-0.5.0 gradio-5.28.0 gradio-client-1.10.0 groovy-0.1.2 pydub-0.25.1 python-multipart-0.0.20 ruff-0.11.7 safehttpx-0.1.6 semantic-version-2.10.0 starlette-0.46.2 tomlkit-0.13.2 uvicorn-0.34.2\n",
      "It looks like you are running Gradio on a hosted a Jupyter notebook. For the Gradio app to work, sharing must be enabled. Automatically setting `share=True` (you can turn this off by setting `share=False` in `launch()` explicitly).\n",
      "\n",
      "Colab notebook detected. To show errors in colab notebook, set debug=True in launch()\n",
      "* Running on public URL: https://26550e9f7c9ca6285f.gradio.live\n",
      "\n",
      "This share link expires in 1 week. For free permanent hosting and GPU upgrades, run `gradio deploy` from the terminal in the working directory to deploy to Hugging Face Spaces (https://huggingface.co/spaces)\n"
     ]
    },
    {
     "data": {
      "text/html": [
       "<div><iframe src=\"https://26550e9f7c9ca6285f.gradio.live\" width=\"100%\" height=\"500\" allow=\"autoplay; camera; microphone; clipboard-read; clipboard-write;\" frameborder=\"0\" allowfullscreen></iframe></div>"
      ],
      "text/plain": [
       "<IPython.core.display.HTML object>"
      ]
     },
     "metadata": {},
     "output_type": "display_data"
    },
    {
     "data": {
      "text/plain": []
     },
     "execution_count": 4,
     "metadata": {},
     "output_type": "execute_result"
    }
   ],
   "source": [
    "!pip install gradio\n",
    "import gradio as gr\n",
    "\n",
    "def greet(name):\n",
    "    return \"Hello \" + name + \"!\"\n",
    "\n",
    "demo = gr.Interface(fn=greet, inputs=\"text\", outputs=\"text\")\n",
    "\n",
    "demo.launch(server_name=\"0.0.0.0\", server_port= 7860)\n"
   ]
  },
  {
   "cell_type": "code",
   "execution_count": 7,
   "metadata": {
    "colab": {
     "base_uri": "https://localhost:8080/",
     "height": 647
    },
    "id": "PxdGZYE8PCtt",
    "outputId": "3bafb566-908d-4915-8764-15defc20eea8"
   },
   "outputs": [
    {
     "name": "stdout",
     "output_type": "stream",
     "text": [
      "It looks like you are running Gradio on a hosted a Jupyter notebook. For the Gradio app to work, sharing must be enabled. Automatically setting `share=True` (you can turn this off by setting `share=False` in `launch()` explicitly).\n",
      "\n",
      "Colab notebook detected. To show errors in colab notebook, set debug=True in launch()\n",
      "* Running on public URL: https://6162985979cc7d5e99.gradio.live\n",
      "\n",
      "This share link expires in 1 week. For free permanent hosting and GPU upgrades, run `gradio deploy` from the terminal in the working directory to deploy to Hugging Face Spaces (https://huggingface.co/spaces)\n"
     ]
    },
    {
     "data": {
      "text/html": [
       "<div><iframe src=\"https://6162985979cc7d5e99.gradio.live\" width=\"100%\" height=\"500\" allow=\"autoplay; camera; microphone; clipboard-read; clipboard-write;\" frameborder=\"0\" allowfullscreen></iframe></div>"
      ],
      "text/plain": [
       "<IPython.core.display.HTML object>"
      ]
     },
     "metadata": {},
     "output_type": "display_data"
    },
    {
     "data": {
      "text/plain": []
     },
     "execution_count": 7,
     "metadata": {},
     "output_type": "execute_result"
    }
   ],
   "source": [
    "import torch\n",
    "from transformers import pipeline\n",
    "import gradio as gr\n",
    "\n",
    "# Function to transcribe audio using the OpenAI Whisper model\n",
    "def transcript_audio(audio_file):\n",
    "    # Initialize the speech recognition pipeline\n",
    "    pipe = pipeline(\n",
    "        \"automatic-speech-recognition\",\n",
    "        model=\"openai/whisper-tiny.en\",\n",
    "        chunk_length_s=30,\n",
    "    )\n",
    "\n",
    "    # Transcribe the audio file and return the result\n",
    "    result = pipe(audio_file, batch_size=8)[\"text\"]\n",
    "    return result\n",
    "\n",
    "# Set up Gradio interface\n",
    "audio_input = gr.Audio(sources=\"upload\", type=\"filepath\")  # Audio input\n",
    "output_text = gr.Textbox()  # Text output\n",
    "\n",
    "# Create the Gradio interface with the function, inputs, and outputs\n",
    "iface = gr.Interface(fn=transcript_audio,\n",
    "                     inputs=audio_input, outputs=output_text,\n",
    "                     title=\"Audio Transcription App\",\n",
    "                     description=\"Upload the audio file\")\n",
    "\n",
    "# Launch the Gradio app\n",
    "iface.launch(server_name=\"0.0.0.0\", server_port=7861)"
   ]
  }
 ],
 "metadata": {
  "colab": {
   "provenance": []
  },
  "kernelspec": {
   "display_name": "Python 3",
   "name": "python3"
  },
  "language_info": {
   "name": "python"
  }
 },
 "nbformat": 4,
 "nbformat_minor": 0
}
